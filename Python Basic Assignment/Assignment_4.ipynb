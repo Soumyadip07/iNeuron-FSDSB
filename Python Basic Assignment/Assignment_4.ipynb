{
 "cells": [
  {
   "cell_type": "markdown",
   "id": "479689c0",
   "metadata": {},
   "source": [
    "##### 1 Ans.-\n",
    "It is an empty list"
   ]
  },
  {
   "cell_type": "markdown",
   "id": "8f81dde5",
   "metadata": {},
   "source": [
    "#### 2 Ans.- \n",
    "spam.insert(2,'hello')"
   ]
  },
  {
   "cell_type": "code",
   "execution_count": 1,
   "id": "c495b019",
   "metadata": {},
   "outputs": [],
   "source": [
    "spam=['a','b','c','d']"
   ]
  },
  {
   "cell_type": "code",
   "execution_count": 2,
   "id": "459bc651",
   "metadata": {},
   "outputs": [
    {
     "name": "stdout",
     "output_type": "stream",
     "text": [
      "d\n"
     ]
    }
   ],
   "source": [
    "print(spam[int(int('3' * 2) / 11)])"
   ]
  },
  {
   "cell_type": "markdown",
   "id": "fbbd982b",
   "metadata": {},
   "source": [
    "#### 3 Ans.-\n",
    "d"
   ]
  },
  {
   "cell_type": "code",
   "execution_count": 5,
   "id": "fb65c592",
   "metadata": {},
   "outputs": [
    {
     "data": {
      "text/plain": [
       "'d'"
      ]
     },
     "execution_count": 5,
     "metadata": {},
     "output_type": "execute_result"
    }
   ],
   "source": [
    "spam[-1]"
   ]
  },
  {
   "cell_type": "markdown",
   "id": "52a2c6ff",
   "metadata": {},
   "source": [
    "#### 4 Ans.-\n",
    "d"
   ]
  },
  {
   "cell_type": "code",
   "execution_count": 6,
   "id": "163dffc4",
   "metadata": {},
   "outputs": [
    {
     "data": {
      "text/plain": [
       "['a', 'b']"
      ]
     },
     "execution_count": 6,
     "metadata": {},
     "output_type": "execute_result"
    }
   ],
   "source": [
    "spam[:2]"
   ]
  },
  {
   "cell_type": "markdown",
   "id": "68b9718d",
   "metadata": {},
   "source": [
    "#### 5 Ans.-\n",
    "['a','b']"
   ]
  },
  {
   "cell_type": "code",
   "execution_count": 23,
   "id": "e11a19b3",
   "metadata": {},
   "outputs": [],
   "source": [
    "bacon=[3.14,'cat',11,'cat',True]"
   ]
  },
  {
   "cell_type": "code",
   "execution_count": 24,
   "id": "9eaed937",
   "metadata": {},
   "outputs": [
    {
     "data": {
      "text/plain": [
       "1"
      ]
     },
     "execution_count": 24,
     "metadata": {},
     "output_type": "execute_result"
    }
   ],
   "source": [
    "bacon.index('cat')"
   ]
  },
  {
   "cell_type": "markdown",
   "id": "fb32eee3",
   "metadata": {},
   "source": [
    "#### 6 Ans.-\n",
    "1"
   ]
  },
  {
   "cell_type": "code",
   "execution_count": 25,
   "id": "94805480",
   "metadata": {},
   "outputs": [
    {
     "name": "stdout",
     "output_type": "stream",
     "text": [
      "[3.14, 'cat', 11, 'cat', True, 99]\n"
     ]
    }
   ],
   "source": [
    "bacon.append(99)\n",
    "print(bacon)"
   ]
  },
  {
   "cell_type": "markdown",
   "id": "70e52858",
   "metadata": {},
   "source": [
    "#### 7 Ans.-\n",
    "After the append, number 99 gets added to the last position of the list."
   ]
  },
  {
   "cell_type": "code",
   "execution_count": 26,
   "id": "1b1cf411",
   "metadata": {},
   "outputs": [
    {
     "name": "stdout",
     "output_type": "stream",
     "text": [
      "[3.14, 11, 'cat', True, 99]\n"
     ]
    }
   ],
   "source": [
    "bacon.remove('cat')\n",
    "print(bacon)"
   ]
  },
  {
   "cell_type": "markdown",
   "id": "f9f9ea46",
   "metadata": {},
   "source": [
    "#### 8 Ans.-\n",
    "After the bacon.remove('cat') syntax, the first element named 'cat' is removed from the list. "
   ]
  },
  {
   "cell_type": "markdown",
   "id": "71e95970",
   "metadata": {},
   "source": [
    "#### 9 Ans.-\n",
    "List concatenation operator is +\n",
    "\n",
    "List replication operator is *"
   ]
  },
  {
   "cell_type": "markdown",
   "id": "443018d2",
   "metadata": {},
   "source": [
    "#### 10 Ans.-\n",
    "append() method adds values only at the end of the list whereas insert() method can be used to add element at any desired position in the list."
   ]
  },
  {
   "cell_type": "markdown",
   "id": "718c97a0",
   "metadata": {},
   "source": [
    "#### 11 Ans.-\n",
    "The two methods for removing items from a list are:-\n",
    "\n",
    "1)remove() method\n",
    "\n",
    "2)del function"
   ]
  },
  {
   "cell_type": "markdown",
   "id": "bfb193cd",
   "metadata": {},
   "source": [
    "#### 12 Ans.-\n",
    "Both lists and strings can be passed to `len()` function, have indexes and slices, be used in `for` loops, be concatenated or replicated, and be used with the `in` and `not in` operators."
   ]
  },
  {
   "cell_type": "markdown",
   "id": "c065f45e",
   "metadata": {},
   "source": [
    "#### 13 Ans.-\n",
    "Differnce between tuples and list are:\n",
    "1. Tuples are mutable whereas list are immutable\n",
    "2. Tuples consume less memory as compared to lists\n",
    "3. Lists have more in-built functions than tuples."
   ]
  },
  {
   "cell_type": "code",
   "execution_count": 29,
   "id": "57d1eaef",
   "metadata": {},
   "outputs": [
    {
     "data": {
      "text/plain": [
       "tuple"
      ]
     },
     "execution_count": 29,
     "metadata": {},
     "output_type": "execute_result"
    }
   ],
   "source": [
    "a=(42,)\n",
    "type(a)"
   ]
  },
  {
   "cell_type": "markdown",
   "id": "027fb7fd",
   "metadata": {},
   "source": [
    "#### 14 Ans.-\n",
    "We can include a comma after the number to make computer that "
   ]
  },
  {
   "cell_type": "markdown",
   "id": "9eb90606",
   "metadata": {},
   "source": [
    "#### 15 ANS.-\n",
    "The tuple() and list() functions, respectively are used to convert a list to tuple and vice versa"
   ]
  },
  {
   "cell_type": "markdown",
   "id": "22358e4b",
   "metadata": {},
   "source": [
    "#### 16 Ans.-\n",
    "They contain references to list values."
   ]
  },
  {
   "cell_type": "markdown",
   "id": "e78487a6",
   "metadata": {},
   "source": [
    "#### 17 Ans.-\n",
    "The `copy.copy()` function will do a shallow copy of a list, while the `copy.deepcopy()` function will do a deep copy of a list. That is, only `copy.deepcopy()` will duplicate any lists inside the list."
   ]
  }
 ],
 "metadata": {
  "kernelspec": {
   "display_name": "Python 3 (ipykernel)",
   "language": "python",
   "name": "python3"
  },
  "language_info": {
   "codemirror_mode": {
    "name": "ipython",
    "version": 3
   },
   "file_extension": ".py",
   "mimetype": "text/x-python",
   "name": "python",
   "nbconvert_exporter": "python",
   "pygments_lexer": "ipython3",
   "version": "3.9.15"
  }
 },
 "nbformat": 4,
 "nbformat_minor": 5
}
