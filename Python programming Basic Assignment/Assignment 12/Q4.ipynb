{
 "cells": [
  {
   "cell_type": "code",
   "execution_count": 2,
   "id": "5407e2a5",
   "metadata": {},
   "outputs": [
    {
     "name": "stdout",
     "output_type": "stream",
     "text": [
      "{'CPU': 'AMD Ryzen', 'GPU': 'Nvdia', 'Mobo': 'MSI'}\n"
     ]
    }
   ],
   "source": [
    "l_list=[('CPU','AMD Ryzen'),('GPU','Nvdia'),('Mobo','MSI')]\n",
    "o_list=dict(l_list)\n",
    "print(o_list)"
   ]
  }
 ],
 "metadata": {
  "kernelspec": {
   "display_name": "Python 3 (ipykernel)",
   "language": "python",
   "name": "python3"
  },
  "language_info": {
   "codemirror_mode": {
    "name": "ipython",
    "version": 3
   },
   "file_extension": ".py",
   "mimetype": "text/x-python",
   "name": "python",
   "nbconvert_exporter": "python",
   "pygments_lexer": "ipython3",
   "version": "3.9.15"
  }
 },
 "nbformat": 4,
 "nbformat_minor": 5
}
