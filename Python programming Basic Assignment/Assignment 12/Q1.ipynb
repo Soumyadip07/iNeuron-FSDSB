{
 "cells": [
  {
   "cell_type": "code",
   "execution_count": 3,
   "id": "6af789aa",
   "metadata": {},
   "outputs": [
    {
     "name": "stdout",
     "output_type": "stream",
     "text": [
      "dict_values(['AMD', 'Intel', 'Nvdia', 'Snapdragon', 'Mediatek', 'AMD'])\n",
      "Unique Values: ['Mediatek', 'AMD', 'Snapdragon', 'Nvdia', 'Intel']\n"
     ]
    }
   ],
   "source": [
    "dic= {1:'AMD',2:'Intel',3:'Nvdia',4:'Snapdragon',5:'Mediatek',6:'AMD'}\n",
    "print(dic.values())\n",
    "dic1=list(set(dic.values()))\n",
    "print('Unique Values:',dic1)"
   ]
  }
 ],
 "metadata": {
  "kernelspec": {
   "display_name": "Python 3 (ipykernel)",
   "language": "python",
   "name": "python3"
  },
  "language_info": {
   "codemirror_mode": {
    "name": "ipython",
    "version": 3
   },
   "file_extension": ".py",
   "mimetype": "text/x-python",
   "name": "python",
   "nbconvert_exporter": "python",
   "pygments_lexer": "ipython3",
   "version": "3.9.15"
  }
 },
 "nbformat": 4,
 "nbformat_minor": 5
}
