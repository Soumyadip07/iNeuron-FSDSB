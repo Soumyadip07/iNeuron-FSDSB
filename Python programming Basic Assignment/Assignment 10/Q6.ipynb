{
 "cells": [
  {
   "cell_type": "code",
   "execution_count": 10,
   "id": "039668e0",
   "metadata": {},
   "outputs": [],
   "source": [
    "def lrgst(lst,ll):\n",
    "    fl=[]\n",
    "    for i in range(0,ll):\n",
    "        m=0\n",
    "        for j in range(len(lst)):\n",
    "            if(lst[j]>m):\n",
    "                m=lst[j]\n",
    "        lst.remove(m)\n",
    "        fl.append(m)\n",
    "    print('Top',ll,'elements of the list: ',fl)"
   ]
  },
  {
   "cell_type": "code",
   "execution_count": 11,
   "id": "821aea1a",
   "metadata": {},
   "outputs": [
    {
     "name": "stdout",
     "output_type": "stream",
     "text": [
      "Enter the size of list: 6\n",
      "Enter the elements\n",
      "68\n",
      "65\n",
      "39\n",
      "94\n",
      "53\n",
      "67\n",
      "How many largest elements you want to see? 3\n",
      "Top 3 elements of the list:  [94, 68, 67]\n"
     ]
    }
   ],
   "source": [
    "n=int(input('Enter the size of list: '))\n",
    "print('Enter the elements')\n",
    "l=[]\n",
    "for i in range(0,n):\n",
    "    l.append(int(input()))\n",
    "lt=int(input(\"How many largest elements you want to see? \"))\n",
    "lrgst(l,lt)"
   ]
  }
 ],
 "metadata": {
  "kernelspec": {
   "display_name": "Python 3 (ipykernel)",
   "language": "python",
   "name": "python3"
  },
  "language_info": {
   "codemirror_mode": {
    "name": "ipython",
    "version": 3
   },
   "file_extension": ".py",
   "mimetype": "text/x-python",
   "name": "python",
   "nbconvert_exporter": "python",
   "pygments_lexer": "ipython3",
   "version": "3.8.13"
  }
 },
 "nbformat": 4,
 "nbformat_minor": 5
}
