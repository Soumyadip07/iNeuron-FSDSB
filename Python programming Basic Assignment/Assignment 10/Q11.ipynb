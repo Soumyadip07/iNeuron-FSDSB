{
 "cells": [
  {
   "cell_type": "code",
   "execution_count": 15,
   "id": "e18466c6",
   "metadata": {},
   "outputs": [
    {
     "name": "stdout",
     "output_type": "stream",
     "text": [
      "Enter the size of list: 8\n",
      "Enter the elements\n",
      "5\n",
      "3\n",
      "6\n",
      "3\n",
      "4\n",
      "3\n",
      "2\n",
      "8\n",
      "Enter the element for which you want to see the frequency: 3\n",
      "3 is present 3 times\n"
     ]
    }
   ],
   "source": [
    "n=int(input('Enter the size of list: '))\n",
    "print('Enter the elements')\n",
    "l=[]\n",
    "for i in range(0,n):\n",
    "    l.append(int(input()))\n",
    "e=int(input('Enter the element for which you want to see the frequency: '))\n",
    "ct=0\n",
    "for i in l:\n",
    "    if(e==i):\n",
    "        ct+=1        \n",
    "print(e,'is present',ct,'times')"
   ]
  }
 ],
 "metadata": {
  "kernelspec": {
   "display_name": "Python 3 (ipykernel)",
   "language": "python",
   "name": "python3"
  },
  "language_info": {
   "codemirror_mode": {
    "name": "ipython",
    "version": 3
   },
   "file_extension": ".py",
   "mimetype": "text/x-python",
   "name": "python",
   "nbconvert_exporter": "python",
   "pygments_lexer": "ipython3",
   "version": "3.8.13"
  }
 },
 "nbformat": 4,
 "nbformat_minor": 5
}
