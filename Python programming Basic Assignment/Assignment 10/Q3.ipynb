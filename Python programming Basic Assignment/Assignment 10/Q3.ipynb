{
 "cells": [
  {
   "cell_type": "code",
   "execution_count": 4,
   "id": "1b70406e",
   "metadata": {},
   "outputs": [
    {
     "name": "stdout",
     "output_type": "stream",
     "text": [
      "Enter the size of list: 5\n",
      "Enter the elements\n",
      "10\n",
      "6\n",
      "3\n",
      "84\n",
      "51\n",
      "Smallest number in the given list is: 3\n"
     ]
    }
   ],
   "source": [
    "n=int(input('Enter the size of list: '))\n",
    "print('Enter the elements')\n",
    "l=[]\n",
    "for i in range(0,n):\n",
    "    l.append(int(input()))\n",
    "sm=l[0]\n",
    "for i in range(0,n):\n",
    "    if(sm>l[i]):\n",
    "        sm=l[i]\n",
    "print('Smallest number in the given list is:',sm)"
   ]
  }
 ],
 "metadata": {
  "kernelspec": {
   "display_name": "Python 3 (ipykernel)",
   "language": "python",
   "name": "python3"
  },
  "language_info": {
   "codemirror_mode": {
    "name": "ipython",
    "version": 3
   },
   "file_extension": ".py",
   "mimetype": "text/x-python",
   "name": "python",
   "nbconvert_exporter": "python",
   "pygments_lexer": "ipython3",
   "version": "3.8.13"
  }
 },
 "nbformat": 4,
 "nbformat_minor": 5
}
