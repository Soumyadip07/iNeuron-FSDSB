{
 "cells": [
  {
   "cell_type": "code",
   "execution_count": 5,
   "id": "e0166429",
   "metadata": {},
   "outputs": [
    {
     "name": "stdout",
     "output_type": "stream",
     "text": [
      "Enter all elements of the list: 5,6,71,98,56,231,[],89,21,45,32\n",
      "There is an Empty list in (5, 6, 71, 98, 56, 231, [], 89, 21, 45, 32) at Position 7\n"
     ]
    }
   ],
   "source": [
    "in_list = eval(input('Enter all elements of the list: '))\n",
    "if [] in in_list:\n",
    "    print(f'There is an Empty list in {in_list} at Position {(in_list.index([]))+1}')\n",
    "else:\n",
    "    print(f'There is no [] List in the list {in_list}')"
   ]
  }
 ],
 "metadata": {
  "kernelspec": {
   "display_name": "Python 3 (ipykernel)",
   "language": "python",
   "name": "python3"
  },
  "language_info": {
   "codemirror_mode": {
    "name": "ipython",
    "version": 3
   },
   "file_extension": ".py",
   "mimetype": "text/x-python",
   "name": "python",
   "nbconvert_exporter": "python",
   "pygments_lexer": "ipython3",
   "version": "3.9.15"
  }
 },
 "nbformat": 4,
 "nbformat_minor": 5
}
