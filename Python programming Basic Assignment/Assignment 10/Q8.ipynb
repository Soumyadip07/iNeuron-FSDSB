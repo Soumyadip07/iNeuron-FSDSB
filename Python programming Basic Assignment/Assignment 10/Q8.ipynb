{
 "cells": [
  {
   "cell_type": "code",
   "execution_count": 1,
   "id": "a366c09e",
   "metadata": {},
   "outputs": [
    {
     "name": "stdout",
     "output_type": "stream",
     "text": [
      "Enter the size of list: 5\n",
      "Enter the elements\n",
      "68\n",
      "94\n",
      "31\n",
      "658\n",
      "87\n",
      "Odd numbers in given list is: [31, 87]\n"
     ]
    }
   ],
   "source": [
    "n=int(input('Enter the size of list: '))\n",
    "print('Enter the elements')\n",
    "l=[]\n",
    "for i in range(0,n):\n",
    "    l.append(int(input()))\n",
    "le=[]\n",
    "for i in l:\n",
    "    if(i%2!=0):\n",
    "        le.append(i)\n",
    "print('Odd numbers in given list is:',le)"
   ]
  }
 ],
 "metadata": {
  "kernelspec": {
   "display_name": "Python 3 (ipykernel)",
   "language": "python",
   "name": "python3"
  },
  "language_info": {
   "codemirror_mode": {
    "name": "ipython",
    "version": 3
   },
   "file_extension": ".py",
   "mimetype": "text/x-python",
   "name": "python",
   "nbconvert_exporter": "python",
   "pygments_lexer": "ipython3",
   "version": "3.9.15"
  }
 },
 "nbformat": 4,
 "nbformat_minor": 5
}
