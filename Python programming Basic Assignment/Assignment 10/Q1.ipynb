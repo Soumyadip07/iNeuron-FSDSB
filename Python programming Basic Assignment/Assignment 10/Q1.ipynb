{
 "cells": [
  {
   "cell_type": "code",
   "execution_count": 1,
   "id": "88555b5f",
   "metadata": {},
   "outputs": [
    {
     "name": "stdout",
     "output_type": "stream",
     "text": [
      "Sum of [5, 9, 25, 78, 32, 56] is: 205\n"
     ]
    }
   ],
   "source": [
    "l=[5,9,25,78,32,56] #sample list\n",
    "s=0\n",
    "for i in l:\n",
    "    s+=i\n",
    "print('Sum of',l,'is:',s)"
   ]
  }
 ],
 "metadata": {
  "kernelspec": {
   "display_name": "Python 3 (ipykernel)",
   "language": "python",
   "name": "python3"
  },
  "language_info": {
   "codemirror_mode": {
    "name": "ipython",
    "version": 3
   },
   "file_extension": ".py",
   "mimetype": "text/x-python",
   "name": "python",
   "nbconvert_exporter": "python",
   "pygments_lexer": "ipython3",
   "version": "3.8.13"
  }
 },
 "nbformat": 4,
 "nbformat_minor": 5
}
