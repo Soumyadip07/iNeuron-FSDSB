{
 "cells": [
  {
   "cell_type": "code",
   "execution_count": 1,
   "id": "739c9e6b",
   "metadata": {},
   "outputs": [],
   "source": [
    "def lrgst(lst,n):\n",
    "    lm=lst[0]\n",
    "    for i in range(0,n):\n",
    "        if(lm<lst[i]):\n",
    "            lm=lst[i]\n",
    "    return lm"
   ]
  },
  {
   "cell_type": "code",
   "execution_count": 4,
   "id": "63a4d895",
   "metadata": {},
   "outputs": [
    {
     "name": "stdout",
     "output_type": "stream",
     "text": [
      "Enter the size of list: 5\n",
      "Enter the elements\n",
      "68\n",
      "14\n",
      "95\n",
      "36\n",
      "74\n",
      "2nd Largest number in the given list is: 74\n"
     ]
    }
   ],
   "source": [
    "n=int(input('Enter the size of list: '))\n",
    "print('Enter the elements')\n",
    "l=[]\n",
    "for i in range(0,n):\n",
    "    l.append(int(input()))\n",
    "lgn=lrgst(l,n)\n",
    "l.remove(lgn)\n",
    "slgn=lrgst(l,n-1)\n",
    "print('2nd Largest number in the given list is:',slgn)"
   ]
  }
 ],
 "metadata": {
  "kernelspec": {
   "display_name": "Python 3 (ipykernel)",
   "language": "python",
   "name": "python3"
  },
  "language_info": {
   "codemirror_mode": {
    "name": "ipython",
    "version": 3
   },
   "file_extension": ".py",
   "mimetype": "text/x-python",
   "name": "python",
   "nbconvert_exporter": "python",
   "pygments_lexer": "ipython3",
   "version": "3.8.13"
  }
 },
 "nbformat": 4,
 "nbformat_minor": 5
}
