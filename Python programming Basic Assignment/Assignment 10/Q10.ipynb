{
 "cells": [
  {
   "cell_type": "code",
   "execution_count": 2,
   "id": "d6cd7c70",
   "metadata": {},
   "outputs": [
    {
     "name": "stdout",
     "output_type": "stream",
     "text": [
      "Enter the size of list: 5\n",
      "Enter the elements\n",
      "6\n",
      "3\n",
      "2\n",
      "4\n",
      "1\n",
      "Original List: [6, 3, 2, 4, 1]\n",
      "Cloned list [6, 3, 2, 4, 1]\n"
     ]
    }
   ],
   "source": [
    "n=int(input('Enter the size of list: '))\n",
    "print('Enter the elements')\n",
    "l=[]\n",
    "for i in range(0,n):\n",
    "    l.append(int(input()))\n",
    "print('Original List:',l)\n",
    "#copying/cloning list\n",
    "l1=[]\n",
    "for i in l:\n",
    "    l1.append(i)\n",
    "print('Cloned list',l1)"
   ]
  }
 ],
 "metadata": {
  "kernelspec": {
   "display_name": "Python 3 (ipykernel)",
   "language": "python",
   "name": "python3"
  },
  "language_info": {
   "codemirror_mode": {
    "name": "ipython",
    "version": 3
   },
   "file_extension": ".py",
   "mimetype": "text/x-python",
   "name": "python",
   "nbconvert_exporter": "python",
   "pygments_lexer": "ipython3",
   "version": "3.8.13"
  }
 },
 "nbformat": 4,
 "nbformat_minor": 5
}
