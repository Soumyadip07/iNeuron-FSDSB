{
 "cells": [
  {
   "cell_type": "code",
   "execution_count": 3,
   "id": "9993d716",
   "metadata": {},
   "outputs": [
    {
     "name": "stdout",
     "output_type": "stream",
     "text": [
      "Enter a String: Hello, this is iNeuron AI\n",
      "AI Hello, iNeuron is this\n"
     ]
    }
   ],
   "source": [
    "word= input(\"Enter a String: \")\n",
    "sort_word= sorted(word.split(' '))\n",
    "print(' '.join(sort_word))"
   ]
  }
 ],
 "metadata": {
  "kernelspec": {
   "display_name": "Python 3 (ipykernel)",
   "language": "python",
   "name": "python3"
  },
  "language_info": {
   "codemirror_mode": {
    "name": "ipython",
    "version": 3
   },
   "file_extension": ".py",
   "mimetype": "text/x-python",
   "name": "python",
   "nbconvert_exporter": "python",
   "pygments_lexer": "ipython3",
   "version": "3.8.13"
  }
 },
 "nbformat": 4,
 "nbformat_minor": 5
}
