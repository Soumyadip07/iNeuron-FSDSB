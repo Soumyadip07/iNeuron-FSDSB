{
 "cells": [
  {
   "cell_type": "code",
   "execution_count": 1,
   "id": "4c463a55",
   "metadata": {},
   "outputs": [],
   "source": [
    "def tp(mat):\n",
    "    tmat=[]\n",
    "    for x in range(len(mat[0])):\n",
    "        tmat.append([0 for i in range(len(mat))])\n",
    "    for i in range(len(mat)):\n",
    "        for j in range(len(mat[i])):\n",
    "            tmat[j][i]=mat[i][j]\n",
    "    print('Tranposed matrix:',tmat)"
   ]
  },
  {
   "cell_type": "code",
   "execution_count": 3,
   "id": "caa4e63c",
   "metadata": {},
   "outputs": [
    {
     "name": "stdout",
     "output_type": "stream",
     "text": [
      "Enter the number of rows of the matrix: 2\n",
      "Enter the number of columns of the matrix: 3\n",
      "Enter elements for the matrix\n",
      "1\n",
      "2\n",
      "3\n",
      "4\n",
      "5\n",
      "6\n",
      "Tranposed matrix: [[1, 4], [2, 5], [3, 6]]\n"
     ]
    }
   ],
   "source": [
    "r=int(input('Enter the number of rows of the matrix: '))\n",
    "c=int(input('Enter the number of columns of the matrix: '))\n",
    "print('Enter elements for the matrix')\n",
    "mat1=[]\n",
    "for i in range(r):          \n",
    "    a =[]\n",
    "    for j in range(c):\n",
    "         a.append(int(input()))\n",
    "    mat1.append(a)\n",
    "tp(mat1)"
   ]
  }
 ],
 "metadata": {
  "kernelspec": {
   "display_name": "Python 3 (ipykernel)",
   "language": "python",
   "name": "python3"
  },
  "language_info": {
   "codemirror_mode": {
    "name": "ipython",
    "version": 3
   },
   "file_extension": ".py",
   "mimetype": "text/x-python",
   "name": "python",
   "nbconvert_exporter": "python",
   "pygments_lexer": "ipython3",
   "version": "3.8.13"
  }
 },
 "nbformat": 4,
 "nbformat_minor": 5
}
