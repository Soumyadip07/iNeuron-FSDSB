{
 "cells": [
  {
   "cell_type": "code",
   "execution_count": 14,
   "id": "88d3a415",
   "metadata": {},
   "outputs": [],
   "source": [
    "def mltmat(a,b):\n",
    "    opt=[]\n",
    "    if len(a[0]) == len(b):\n",
    "        for x in range(len(a[0])):\n",
    "            opt.append([0 for x in range(len(b[0]))])\n",
    "        for i in range(len(a)):\n",
    "            for j in range(len(b[0])):\n",
    "                for k in range(len(b)):\n",
    "                    opt[i][j] += a[i][k]*b[k][j]\n",
    "        print(opt)     \n",
    "    else:\n",
    "        print('Matrix Multiplication is Not Possible')"
   ]
  },
  {
   "cell_type": "code",
   "execution_count": 15,
   "id": "8ece755b",
   "metadata": {},
   "outputs": [
    {
     "name": "stdout",
     "output_type": "stream",
     "text": [
      "Enter elements for the matrix 1\n",
      "1\n",
      "2\n",
      "3\n",
      "4\n",
      "5\n",
      "6\n",
      "7\n",
      "8\n",
      "9\n",
      "Enter elements for the matrix 2\n",
      "5\n",
      "6\n",
      "3\n",
      "8\n",
      "4\n",
      "7\n",
      "9\n",
      "1\n",
      "2\n",
      "Matrix 1: [[1, 2, 3], [4, 5, 6], [7, 8, 9]]\n",
      "Matrix 2: [[5, 6, 3], [8, 4, 7], [9, 1, 2]]\n",
      "Multiplication of both matrices is:\n",
      "[[48, 17, 23], [114, 50, 59], [180, 83, 95]]\n"
     ]
    }
   ],
   "source": [
    "print('Enter elements for the matrix 1')\n",
    "mat1=[]\n",
    "for i in range(3):          \n",
    "    a =[]\n",
    "    for j in range(3):\n",
    "         a.append(int(input()))\n",
    "    mat1.append(a)\n",
    "\n",
    "print('Enter elements for the matrix 2')\n",
    "mat2=[]\n",
    "for i in range(3):          \n",
    "    a =[]\n",
    "    for j in range(3):\n",
    "         a.append(int(input()))\n",
    "    mat2.append(a)\n",
    "\n",
    "print('Matrix 1:',mat1)\n",
    "print('Matrix 2:',mat2)\n",
    "print('Multiplication of both matrices is:')\n",
    "mltmat(mat1,mat2)"
   ]
  }
 ],
 "metadata": {
  "kernelspec": {
   "display_name": "Python 3 (ipykernel)",
   "language": "python",
   "name": "python3"
  },
  "language_info": {
   "codemirror_mode": {
    "name": "ipython",
    "version": 3
   },
   "file_extension": ".py",
   "mimetype": "text/x-python",
   "name": "python",
   "nbconvert_exporter": "python",
   "pygments_lexer": "ipython3",
   "version": "3.8.13"
  }
 },
 "nbformat": 4,
 "nbformat_minor": 5
}
