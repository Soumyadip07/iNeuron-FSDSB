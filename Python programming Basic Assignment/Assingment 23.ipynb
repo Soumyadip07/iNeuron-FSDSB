{
 "cells": [
  {
   "cell_type": "markdown",
   "id": "3088eb58",
   "metadata": {},
   "source": [
    "### Q1"
   ]
  },
  {
   "cell_type": "code",
   "execution_count": 1,
   "id": "5f194254",
   "metadata": {},
   "outputs": [
    {
     "name": "stdout",
     "output_type": "stream",
     "text": [
      "7227 ➞ True\n",
      "12567 ➞ False\n",
      "44444444 ➞ True\n",
      "9939 ➞ False\n",
      "1112111 ➞ True\n"
     ]
    }
   ],
   "source": [
    "def is_symmetrical(in_num):\n",
    "    if str(in_num) == str(in_num)[::-1]:\n",
    "        print(f'{in_num} ➞ {True}')\n",
    "    else:\n",
    "        print(f'{in_num} ➞ {False}')\n",
    "\n",
    "is_symmetrical(7227)\n",
    "is_symmetrical(12567)\n",
    "is_symmetrical(44444444)\n",
    "is_symmetrical(9939)\n",
    "is_symmetrical(1112111)"
   ]
  },
  {
   "cell_type": "markdown",
   "id": "661d1e4f",
   "metadata": {},
   "source": [
    "### Q2"
   ]
  },
  {
   "cell_type": "code",
   "execution_count": 2,
   "id": "57d27356",
   "metadata": {},
   "outputs": [
    {
     "name": "stdout",
     "output_type": "stream",
     "text": [
      "6\n",
      "24\n",
      "0\n",
      "-20\n"
     ]
    }
   ],
   "source": [
    "def multiply_nums(s):\n",
    "    product = 1\n",
    "    for i in s.split(','):\n",
    "        product = product * int(i)\n",
    "    return product\n",
    "print(multiply_nums('2, 3'))\n",
    "print(multiply_nums('1, 2, 3, 4'))\n",
    "print(multiply_nums('54, 75, 453, 0'))\n",
    "print(multiply_nums('10, -2'))"
   ]
  },
  {
   "cell_type": "markdown",
   "id": "bec6d11e",
   "metadata": {},
   "source": [
    "### Q3"
   ]
  },
  {
   "cell_type": "code",
   "execution_count": 3,
   "id": "3cff2266",
   "metadata": {},
   "outputs": [
    {
     "name": "stdout",
     "output_type": "stream",
     "text": [
      "811181\n",
      "416649\n",
      "9414\n"
     ]
    }
   ],
   "source": [
    "def square_digits(num):\n",
    "    res = \"\"\n",
    "    for c in str(num):\n",
    "        res += str(int(c)**2)\n",
    "    return int(res)\n",
    "\n",
    "print(square_digits(9119))\n",
    "print(square_digits(2483))\n",
    "print(square_digits(3212))"
   ]
  },
  {
   "cell_type": "markdown",
   "id": "cd45c6f9",
   "metadata": {},
   "source": [
    "### Q4"
   ]
  },
  {
   "cell_type": "code",
   "execution_count": 4,
   "id": "c13ee2c6",
   "metadata": {},
   "outputs": [
    {
     "name": "stdout",
     "output_type": "stream",
     "text": [
      "[1, 3, 5]\n",
      "[4]\n",
      "[5, 7, 8, 9, 10, 15]\n",
      "[1, 2, 3]\n"
     ]
    }
   ],
   "source": [
    "def setify(lst):\n",
    "    return list(set(lst))\n",
    "\n",
    "print(setify([1, 3, 3, 5, 5]))\n",
    "print(setify([4, 4, 4, 4]))\n",
    "print(setify([5, 7, 8, 9, 10, 15]))\n",
    "print(setify([3, 3, 3, 2, 1]))"
   ]
  },
  {
   "cell_type": "markdown",
   "id": "ca4412fa",
   "metadata": {},
   "source": [
    "### Q5"
   ]
  },
  {
   "cell_type": "code",
   "execution_count": 6,
   "id": "bd4d612d",
   "metadata": {},
   "outputs": [
    {
     "name": "stdout",
     "output_type": "stream",
     "text": [
      "3\n",
      "3\n",
      "6\n"
     ]
    }
   ],
   "source": [
    "def mean(n): \n",
    "    N = len(str(n)) \n",
    "    sum = mean = 0\n",
    "    \n",
    "    for digit in str(n):\n",
    "        sum += int(digit)       \n",
    "    return int(sum/N)\n",
    "\n",
    "print(mean(42))\n",
    "print(mean(12345))\n",
    "print(mean(666))"
   ]
  },
  {
   "cell_type": "code",
   "execution_count": null,
   "id": "f915bc85",
   "metadata": {},
   "outputs": [],
   "source": []
  }
 ],
 "metadata": {
  "kernelspec": {
   "display_name": "Python 3 (ipykernel)",
   "language": "python",
   "name": "python3"
  },
  "language_info": {
   "codemirror_mode": {
    "name": "ipython",
    "version": 3
   },
   "file_extension": ".py",
   "mimetype": "text/x-python",
   "name": "python",
   "nbconvert_exporter": "python",
   "pygments_lexer": "ipython3",
   "version": "3.9.15"
  }
 },
 "nbformat": 4,
 "nbformat_minor": 5
}
