{
 "cells": [
  {
   "cell_type": "code",
   "execution_count": 1,
   "id": "cf8e2999",
   "metadata": {},
   "outputs": [
    {
     "name": "stdout",
     "output_type": "stream",
     "text": [
      "Enter a number:68040\n",
      "68040 is a Harshad number\n"
     ]
    }
   ],
   "source": [
    "#Harshad number\n",
    "num=int(input(\"Enter a number:\"))\n",
    "n=num\n",
    "s=0\n",
    "while(num>0):\n",
    "    r=num%10\n",
    "    s=s+r\n",
    "    num=num//10\n",
    "if(n%s==0):\n",
    "    print(n,\"is a Harshad number\")\n",
    "else:\n",
    "    print(n,\"is not a harshad number\")"
   ]
  }
 ],
 "metadata": {
  "kernelspec": {
   "display_name": "Python 3 (ipykernel)",
   "language": "python",
   "name": "python3"
  },
  "language_info": {
   "codemirror_mode": {
    "name": "ipython",
    "version": 3
   },
   "file_extension": ".py",
   "mimetype": "text/x-python",
   "name": "python",
   "nbconvert_exporter": "python",
   "pygments_lexer": "ipython3",
   "version": "3.9.15"
  }
 },
 "nbformat": 4,
 "nbformat_minor": 5
}
