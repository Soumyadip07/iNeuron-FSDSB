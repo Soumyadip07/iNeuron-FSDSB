{
 "cells": [
  {
   "cell_type": "code",
   "execution_count": 2,
   "id": "b728ff39",
   "metadata": {},
   "outputs": [
    {
     "name": "stdout",
     "output_type": "stream",
     "text": [
      "The disarium numbers present between 1 to 100 are:-\n",
      "1,2,3,4,5,6,7,8,9,89,"
     ]
    }
   ],
   "source": [
    "print(\"The disarium numbers present between 1 to 100 are:-\")\n",
    "for i in range(1,100):\n",
    "    x1=i\n",
    "    l=len(str(i))\n",
    "    s=0\n",
    "    while (i>0):\n",
    "        r=i%10\n",
    "        s=s+(r**l)\n",
    "        l=l-1\n",
    "        i=i//10\n",
    "    if(s==x1):\n",
    "        print(s,end=\",\")"
   ]
  }
 ],
 "metadata": {
  "kernelspec": {
   "display_name": "Python 3 (ipykernel)",
   "language": "python",
   "name": "python3"
  },
  "language_info": {
   "codemirror_mode": {
    "name": "ipython",
    "version": 3
   },
   "file_extension": ".py",
   "mimetype": "text/x-python",
   "name": "python",
   "nbconvert_exporter": "python",
   "pygments_lexer": "ipython3",
   "version": "3.8.13"
  }
 },
 "nbformat": 4,
 "nbformat_minor": 5
}
