{
 "cells": [
  {
   "cell_type": "code",
   "execution_count": 8,
   "id": "ce0719fe",
   "metadata": {},
   "outputs": [],
   "source": [
    "def Happy_num(n):\n",
    "    past=set()\n",
    "    while(n!=1):\n",
    "        n=sum(int(i)**2 for i in str(n))\n",
    "        if n in past:\n",
    "            return False\n",
    "        past.add(n)\n",
    "    return True"
   ]
  },
  {
   "cell_type": "code",
   "execution_count": 12,
   "id": "2075a9ef",
   "metadata": {},
   "outputs": [
    {
     "name": "stdout",
     "output_type": "stream",
     "text": [
      "Enter a number:- 13\n",
      "13 is a happy number\n"
     ]
    }
   ],
   "source": [
    "n=int(input(\"Enter a number:- \"))\n",
    "x=Happy_num(n)\n",
    "if(x==True):\n",
    "    print(n,'is a happy number')\n",
    "else:\n",
    "    print(n,'is not a happy number')"
   ]
  }
 ],
 "metadata": {
  "kernelspec": {
   "display_name": "Python 3 (ipykernel)",
   "language": "python",
   "name": "python3"
  },
  "language_info": {
   "codemirror_mode": {
    "name": "ipython",
    "version": 3
   },
   "file_extension": ".py",
   "mimetype": "text/x-python",
   "name": "python",
   "nbconvert_exporter": "python",
   "pygments_lexer": "ipython3",
   "version": "3.8.13"
  }
 },
 "nbformat": 4,
 "nbformat_minor": 5
}
