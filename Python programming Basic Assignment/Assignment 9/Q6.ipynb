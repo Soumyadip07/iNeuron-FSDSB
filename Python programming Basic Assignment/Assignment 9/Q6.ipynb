{
 "cells": [
  {
   "cell_type": "code",
   "execution_count": 1,
   "id": "5ea0df4c",
   "metadata": {},
   "outputs": [
    {
     "name": "stdout",
     "output_type": "stream",
     "text": [
      "0,2,6,12,20,30,42,56,72,90,"
     ]
    }
   ],
   "source": [
    "#Print all pronic numbers between 1 to 100\n",
    "import math\n",
    "l=[]\n",
    "for i in range(101):\n",
    "    l.append(i)\n",
    "for n in l:\n",
    "    s=int(math.sqrt(n))\n",
    "    i=0\n",
    "    while(i<=s):\n",
    "        if(n==i*(i+1)):\n",
    "            print(n,end=\",\")\n",
    "        i+=1  "
   ]
  }
 ],
 "metadata": {
  "kernelspec": {
   "display_name": "Python 3 (ipykernel)",
   "language": "python",
   "name": "python3"
  },
  "language_info": {
   "codemirror_mode": {
    "name": "ipython",
    "version": 3
   },
   "file_extension": ".py",
   "mimetype": "text/x-python",
   "name": "python",
   "nbconvert_exporter": "python",
   "pygments_lexer": "ipython3",
   "version": "3.8.13"
  }
 },
 "nbformat": 4,
 "nbformat_minor": 5
}
