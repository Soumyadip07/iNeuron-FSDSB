{
 "cells": [
  {
   "cell_type": "code",
   "execution_count": 3,
   "id": "a39eca63",
   "metadata": {},
   "outputs": [
    {
     "name": "stdout",
     "output_type": "stream",
     "text": [
      "Enter a number:- 89\n",
      "The number is Disarium Number\n"
     ]
    }
   ],
   "source": [
    "#Python program to check if the given number is a Disarium Number\n",
    "#A number is called Disarium if sum of its digits powered with their respective \n",
    "#positions is equal to the number itself.\n",
    "\n",
    "x=int(input(\"Enter a number:- \"))\n",
    "x1=x\n",
    "l=len(str(x))\n",
    "s=0\n",
    "while (x>0):\n",
    "    r=x%10\n",
    "    s=s+(r**l)\n",
    "    l=l-1\n",
    "    x=x//10\n",
    "if(s==x1):\n",
    "    print(\"The number is Disarium Number\")\n",
    "else:\n",
    "    print(\"The number is not a Disarium Number\")"
   ]
  }
 ],
 "metadata": {
  "kernelspec": {
   "display_name": "Python 3 (ipykernel)",
   "language": "python",
   "name": "python3"
  },
  "language_info": {
   "codemirror_mode": {
    "name": "ipython",
    "version": 3
   },
   "file_extension": ".py",
   "mimetype": "text/x-python",
   "name": "python",
   "nbconvert_exporter": "python",
   "pygments_lexer": "ipython3",
   "version": "3.8.13"
  }
 },
 "nbformat": 4,
 "nbformat_minor": 5
}
