{
 "cells": [
  {
   "cell_type": "markdown",
   "id": "c1416ab3",
   "metadata": {},
   "source": [
    "### Q1"
   ]
  },
  {
   "cell_type": "code",
   "execution_count": 2,
   "id": "015e70ac",
   "metadata": {},
   "outputs": [
    {
     "name": "stdout",
     "output_type": "stream",
     "text": [
      "Enter 3 values: 100,150,180\n",
      "Output:  [18, 22, 24]\n"
     ]
    }
   ],
   "source": [
    "\n",
    "import math\n",
    "D=eval(input('Enter 3 values: '))\n",
    "opt=[]\n",
    "C=50\n",
    "H=30\n",
    "for i in D:\n",
    "    Q=int(math.sqrt((2*C*i)/H))\n",
    "    opt.append(Q)\n",
    "print('Output: ',opt)"
   ]
  },
  {
   "cell_type": "markdown",
   "id": "c0e59c5e",
   "metadata": {},
   "source": [
    "### Q2"
   ]
  },
  {
   "cell_type": "code",
   "execution_count": 3,
   "id": "f3004570",
   "metadata": {},
   "outputs": [
    {
     "name": "stdout",
     "output_type": "stream",
     "text": [
      "Enter the No of Rows:3\n",
      "Enter the No of Columns:5\n",
      "[[0, 0, 0, 0, 0], [0, 1, 2, 3, 4], [0, 2, 4, 6, 8]]\n"
     ]
    }
   ],
   "source": [
    "import array as arr\n",
    "def generateArray():\n",
    "    in_x = int(input('Enter the No of Rows:'))\n",
    "    in_y = int(input('Enter the No of Columns:')) \n",
    "    out_array = []\n",
    "    for ele in range(in_x):\n",
    "        out_array.insert(in_x,[])\n",
    "        for sub_ele in range(in_y):\n",
    "            out_array[ele].append(ele*sub_ele)\n",
    "    print(out_array)\n",
    "    \n",
    "generateArray()"
   ]
  },
  {
   "cell_type": "markdown",
   "id": "be3f7ff5",
   "metadata": {},
   "source": [
    "### Q3"
   ]
  },
  {
   "cell_type": "code",
   "execution_count": 4,
   "id": "45736ac1",
   "metadata": {},
   "outputs": [
    {
     "name": "stdout",
     "output_type": "stream",
     "text": [
      "Enter a sequence of words: amd,intel,msi,gigabyte,corsair,razer\n",
      "['amd', 'corsair', 'gigabyte', 'intel', 'msi', 'razer']\n"
     ]
    }
   ],
   "source": [
    "word=input('Enter a sequence of words: ').split(',')\n",
    "word.sort()\n",
    "print(word)"
   ]
  },
  {
   "cell_type": "markdown",
   "id": "e0c40975",
   "metadata": {},
   "source": [
    "### Q4"
   ]
  },
  {
   "cell_type": "code",
   "execution_count": 5,
   "id": "33caab82",
   "metadata": {},
   "outputs": [
    {
     "name": "stdout",
     "output_type": "stream",
     "text": [
      "Enter the Input String: The quick brown fox jumps over the lazy dog\n",
      "Output: The brown dog fox jumps lazy over quick the\n"
     ]
    }
   ],
   "source": [
    "in_string = input(\"Enter the Input String: \")\n",
    "out_string = ' '.join(sorted(sorted(list(set(in_string.split(\" \"))))))\n",
    "print(f'Output: {out_string}')"
   ]
  },
  {
   "cell_type": "markdown",
   "id": "f916edd0",
   "metadata": {},
   "source": [
    "### Q5"
   ]
  },
  {
   "cell_type": "code",
   "execution_count": 6,
   "id": "a066ad4d",
   "metadata": {},
   "outputs": [
    {
     "name": "stdout",
     "output_type": "stream",
     "text": [
      "Enter a sentence: this is a sentence! 564\n",
      "LETTERS  15 \n",
      "DIGITS  3\n"
     ]
    }
   ],
   "source": [
    "word=input('Enter a sentence: ')\n",
    "letterlt='ABCDEFGHIJKLMNOPQRSTUVWXYZabcdefghijklmnopqrstuvwxyz'\n",
    "digitlt='1234567890'\n",
    "lt,dg=0,0\n",
    "for i in word:\n",
    "    if i in letterlt:\n",
    "        lt+=1\n",
    "    if i in digitlt:\n",
    "        dg+=1\n",
    "print('LETTERS ',lt,'\\nDIGITS ',dg)"
   ]
  },
  {
   "cell_type": "markdown",
   "id": "ac044f30",
   "metadata": {},
   "source": [
    "### Q6"
   ]
  },
  {
   "cell_type": "code",
   "execution_count": 8,
   "id": "9dac9358",
   "metadata": {},
   "outputs": [
    {
     "name": "stdout",
     "output_type": "stream",
     "text": [
      "Enter the Input String: aRhb1#13df@,fhfhf@h5,2We3345\n",
      "aRhb1#13df@\n"
     ]
    }
   ],
   "source": [
    "def checkPassword():\n",
    "    in_string = input(\"Enter the Input String: \")\n",
    "    small_list = \"abcdefghijklmnopqrstuvwxyz\"\n",
    "    cap_list = \"ABCDEFGHIJKLMNOPQRSTUVWXYZ\"\n",
    "    num_list = \"0123456789\"\n",
    "    special_list = \"$#@\"\n",
    "    for ele in in_string.split(\",\"):\n",
    "        if len(ele) <= 12 and len(ele) >=6 :\n",
    "            if any(i.isupper() for i in ele):\n",
    "                if any(i.islower() for i in ele):\n",
    "                    if any(i for i in ele if i in special_list):\n",
    "                        print(ele)\n",
    "                               \n",
    "checkPassword() "
   ]
  }
 ],
 "metadata": {
  "kernelspec": {
   "display_name": "Python 3 (ipykernel)",
   "language": "python",
   "name": "python3"
  },
  "language_info": {
   "codemirror_mode": {
    "name": "ipython",
    "version": 3
   },
   "file_extension": ".py",
   "mimetype": "text/x-python",
   "name": "python",
   "nbconvert_exporter": "python",
   "pygments_lexer": "ipython3",
   "version": "3.9.15"
  }
 },
 "nbformat": 4,
 "nbformat_minor": 5
}
